{
  "nbformat": 4,
  "nbformat_minor": 0,
  "metadata": {
    "colab": {
      "provenance": []
    },
    "kernelspec": {
      "name": "python3",
      "display_name": "Python 3"
    },
    "language_info": {
      "name": "python"
    }
  },
  "cells": [
    {
      "cell_type": "markdown",
      "source": [
        "installation requirement -Prerequisites"
      ],
      "metadata": {
        "id": "mH9dyPNzIJe7"
      }
    },
    {
      "cell_type": "code",
      "source": [
        "# dotnet sdk and runtime\n",
        "!cat /etc/os-release"
      ],
      "metadata": {
        "id": "ptt0_2WBInt5",
        "colab": {
          "base_uri": "https://localhost:8080/"
        },
        "outputId": "846acc63-9da9-4fa8-8a06-ff1ff233cf35"
      },
      "execution_count": null,
      "outputs": [
        {
          "output_type": "stream",
          "name": "stdout",
          "text": [
            "PRETTY_NAME=\"Ubuntu 22.04.2 LTS\"\n",
            "NAME=\"Ubuntu\"\n",
            "VERSION_ID=\"22.04\"\n",
            "VERSION=\"22.04.2 LTS (Jammy Jellyfish)\"\n",
            "VERSION_CODENAME=jammy\n",
            "ID=ubuntu\n",
            "ID_LIKE=debian\n",
            "HOME_URL=\"https://www.ubuntu.com/\"\n",
            "SUPPORT_URL=\"https://help.ubuntu.com/\"\n",
            "BUG_REPORT_URL=\"https://bugs.launchpad.net/ubuntu/\"\n",
            "PRIVACY_POLICY_URL=\"https://www.ubuntu.com/legal/terms-and-policies/privacy-policy\"\n",
            "UBUNTU_CODENAME=jammy\n"
          ]
        }
      ]
    },
    {
      "cell_type": "code",
      "execution_count": null,
      "metadata": {
        "id": "PYAAyxOdIBUA",
        "colab": {
          "base_uri": "https://localhost:8080/"
        },
        "outputId": "2c594a48-e38a-4f53-dc2b-dfe15cf6efe7"
      },
      "outputs": [
        {
          "output_type": "stream",
          "name": "stdout",
          "text": [
            "\r0% [Working]\r            \rGet:1 http://security.ubuntu.com/ubuntu jammy-security InRelease [110 kB]\n",
            "\r0% [Connecting to archive.ubuntu.com (185.125.190.36)] [1 InRelease 12.7 kB/110\r                                                                               \rGet:2 https://cloud.r-project.org/bin/linux/ubuntu jammy-cran40/ InRelease [3,626 B]\n",
            "\r0% [Connecting to archive.ubuntu.com (185.125.190.36)] [1 InRelease 43.1 kB/110\r0% [Connecting to archive.ubuntu.com (185.125.190.36)] [1 InRelease 82.2 kB/110\r0% [Connecting to archive.ubuntu.com (185.125.190.36)] [Connecting to ppa.launc\r                                                                               \rHit:3 https://developer.download.nvidia.com/compute/cuda/repos/ubuntu2204/x86_64  InRelease\n",
            "Hit:4 http://archive.ubuntu.com/ubuntu jammy InRelease\n",
            "Get:5 http://archive.ubuntu.com/ubuntu jammy-updates InRelease [119 kB]\n",
            "Get:6 http://security.ubuntu.com/ubuntu jammy-security/universe amd64 Packages [993 kB]\n",
            "Hit:7 https://ppa.launchpadcontent.net/c2d4u.team/c2d4u4.0+/ubuntu jammy InRelease\n",
            "Get:8 http://security.ubuntu.com/ubuntu jammy-security/main amd64 Packages [962 kB]\n",
            "Get:9 http://security.ubuntu.com/ubuntu jammy-security/restricted amd64 Packages [1,059 kB]\n",
            "Get:10 http://archive.ubuntu.com/ubuntu jammy-backports InRelease [109 kB]\n",
            "Get:11 https://ppa.launchpadcontent.net/deadsnakes/ppa/ubuntu jammy InRelease [18.1 kB]\n",
            "Get:12 http://archive.ubuntu.com/ubuntu jammy-updates/main amd64 Packages [1,230 kB]\n",
            "Hit:13 https://ppa.launchpadcontent.net/graphics-drivers/ppa/ubuntu jammy InRelease\n",
            "Get:14 http://archive.ubuntu.com/ubuntu jammy-updates/universe amd64 Packages [1,254 kB]\n",
            "Get:15 http://archive.ubuntu.com/ubuntu jammy-updates/restricted amd64 Packages [1,079 kB]\n",
            "Hit:16 https://ppa.launchpadcontent.net/ubuntugis/ppa/ubuntu jammy InRelease\n",
            "Get:17 https://ppa.launchpadcontent.net/deadsnakes/ppa/ubuntu jammy/main amd64 Packages [21.8 kB]\n",
            "Fetched 6,959 kB in 2s (3,528 kB/s)\n",
            "Reading package lists... Done\n",
            "/bin/bash: line 1: !sudo: command not found\n"
          ]
        }
      ],
      "source": [
        "# polyglot notebook\n",
        "!sudo apt-get update && \\\n",
        "!sudo apt-get install -y dotnet-sdk-7.0"
      ]
    },
    {
      "cell_type": "code",
      "source": [
        "!sudo apt-get install -y dotnet-sdk-7.0\n",
        "!sudo apt-get update\n",
        "!sudo apt-get install -y aspnetcore-runtime-7.0\n",
        "!sudo apt install zlib1g"
      ],
      "metadata": {
        "id": "z7ub-ULFJEFr",
        "colab": {
          "base_uri": "https://localhost:8080/"
        },
        "outputId": "8d908200-a050-494f-ae12-c305a07f8241"
      },
      "execution_count": null,
      "outputs": [
        {
          "output_type": "stream",
          "name": "stdout",
          "text": [
            "Reading package lists... Done\n",
            "Building dependency tree... Done\n",
            "Reading state information... Done\n",
            "The following additional packages will be installed:\n",
            "  aspnetcore-runtime-7.0 aspnetcore-targeting-pack-7.0 dotnet-apphost-pack-7.0\n",
            "  dotnet-host-7.0 dotnet-hostfxr-7.0 dotnet-runtime-7.0\n",
            "  dotnet-targeting-pack-7.0 dotnet-templates-7.0 liblttng-ust-common1\n",
            "  liblttng-ust-ctl5 liblttng-ust1 netstandard-targeting-pack-2.1-7.0\n",
            "The following NEW packages will be installed:\n",
            "  aspnetcore-runtime-7.0 aspnetcore-targeting-pack-7.0 dotnet-apphost-pack-7.0\n",
            "  dotnet-host-7.0 dotnet-hostfxr-7.0 dotnet-runtime-7.0 dotnet-sdk-7.0\n",
            "  dotnet-targeting-pack-7.0 dotnet-templates-7.0 liblttng-ust-common1\n",
            "  liblttng-ust-ctl5 liblttng-ust1 netstandard-targeting-pack-2.1-7.0\n",
            "0 upgraded, 13 newly installed, 0 to remove and 16 not upgraded.\n",
            "Need to get 136 MB of archives.\n",
            "After this operation, 490 MB of additional disk space will be used.\n",
            "Get:1 http://archive.ubuntu.com/ubuntu jammy-updates/universe amd64 dotnet-host-7.0 amd64 7.0.110-0ubuntu1~22.04.1 [180 kB]\n",
            "Get:2 http://archive.ubuntu.com/ubuntu jammy-updates/universe amd64 dotnet-hostfxr-7.0 amd64 7.0.110-0ubuntu1~22.04.1 [166 kB]\n",
            "Get:3 http://archive.ubuntu.com/ubuntu jammy/main amd64 liblttng-ust-common1 amd64 2.13.1-1ubuntu1 [27.1 kB]\n",
            "Get:4 http://archive.ubuntu.com/ubuntu jammy/main amd64 liblttng-ust-ctl5 amd64 2.13.1-1ubuntu1 [77.9 kB]\n",
            "Get:5 http://archive.ubuntu.com/ubuntu jammy/main amd64 liblttng-ust1 amd64 2.13.1-1ubuntu1 [190 kB]\n",
            "Get:6 http://archive.ubuntu.com/ubuntu jammy-updates/universe amd64 dotnet-runtime-7.0 amd64 7.0.110-0ubuntu1~22.04.1 [24.5 MB]\n",
            "Get:7 http://archive.ubuntu.com/ubuntu jammy-updates/universe amd64 aspnetcore-runtime-7.0 amd64 7.0.110-0ubuntu1~22.04.1 [7,824 kB]\n",
            "Get:8 http://archive.ubuntu.com/ubuntu jammy-updates/universe amd64 aspnetcore-targeting-pack-7.0 amd64 7.0.110-0ubuntu1~22.04.1 [1,588 kB]\n",
            "Get:9 http://archive.ubuntu.com/ubuntu jammy-updates/universe amd64 dotnet-apphost-pack-7.0 amd64 7.0.110-0ubuntu1~22.04.1 [3,756 kB]\n",
            "Get:10 http://archive.ubuntu.com/ubuntu jammy-updates/universe amd64 dotnet-targeting-pack-7.0 amd64 7.0.110-0ubuntu1~22.04.1 [2,751 kB]\n",
            "Get:11 http://archive.ubuntu.com/ubuntu jammy-updates/universe amd64 dotnet-templates-7.0 amd64 7.0.110-0ubuntu1~22.04.1 [2,869 kB]\n",
            "Get:12 http://archive.ubuntu.com/ubuntu jammy-updates/universe amd64 netstandard-targeting-pack-2.1-7.0 amd64 7.0.110-0ubuntu1~22.04.1 [1,406 kB]\n",
            "Get:13 http://archive.ubuntu.com/ubuntu jammy-updates/universe amd64 dotnet-sdk-7.0 amd64 7.0.110-0ubuntu1~22.04.1 [90.5 MB]\n",
            "Fetched 136 MB in 5s (25.8 MB/s)\n",
            "debconf: unable to initialize frontend: Dialog\n",
            "debconf: (No usable dialog-like program is installed, so the dialog based frontend cannot be used. at /usr/share/perl5/Debconf/FrontEnd/Dialog.pm line 78, <> line 13.)\n",
            "debconf: falling back to frontend: Readline\n",
            "debconf: unable to initialize frontend: Readline\n",
            "debconf: (This frontend requires a controlling tty.)\n",
            "debconf: falling back to frontend: Teletype\n",
            "dpkg-preconfigure: unable to re-open stdin: \n",
            "Selecting previously unselected package dotnet-host-7.0.\n",
            "(Reading database ... 120901 files and directories currently installed.)\n",
            "Preparing to unpack .../00-dotnet-host-7.0_7.0.110-0ubuntu1~22.04.1_amd64.deb ...\n",
            "Unpacking dotnet-host-7.0 (7.0.110-0ubuntu1~22.04.1) ...\n",
            "Selecting previously unselected package dotnet-hostfxr-7.0.\n",
            "Preparing to unpack .../01-dotnet-hostfxr-7.0_7.0.110-0ubuntu1~22.04.1_amd64.deb ...\n",
            "Unpacking dotnet-hostfxr-7.0 (7.0.110-0ubuntu1~22.04.1) ...\n",
            "Selecting previously unselected package liblttng-ust-common1:amd64.\n",
            "Preparing to unpack .../02-liblttng-ust-common1_2.13.1-1ubuntu1_amd64.deb ...\n",
            "Unpacking liblttng-ust-common1:amd64 (2.13.1-1ubuntu1) ...\n",
            "Selecting previously unselected package liblttng-ust-ctl5:amd64.\n",
            "Preparing to unpack .../03-liblttng-ust-ctl5_2.13.1-1ubuntu1_amd64.deb ...\n",
            "Unpacking liblttng-ust-ctl5:amd64 (2.13.1-1ubuntu1) ...\n",
            "Selecting previously unselected package liblttng-ust1:amd64.\n",
            "Preparing to unpack .../04-liblttng-ust1_2.13.1-1ubuntu1_amd64.deb ...\n",
            "Unpacking liblttng-ust1:amd64 (2.13.1-1ubuntu1) ...\n",
            "Selecting previously unselected package dotnet-runtime-7.0.\n",
            "Preparing to unpack .../05-dotnet-runtime-7.0_7.0.110-0ubuntu1~22.04.1_amd64.deb ...\n",
            "Unpacking dotnet-runtime-7.0 (7.0.110-0ubuntu1~22.04.1) ...\n",
            "Selecting previously unselected package aspnetcore-runtime-7.0.\n",
            "Preparing to unpack .../06-aspnetcore-runtime-7.0_7.0.110-0ubuntu1~22.04.1_amd64.deb ...\n",
            "Unpacking aspnetcore-runtime-7.0 (7.0.110-0ubuntu1~22.04.1) ...\n",
            "Selecting previously unselected package aspnetcore-targeting-pack-7.0.\n",
            "Preparing to unpack .../07-aspnetcore-targeting-pack-7.0_7.0.110-0ubuntu1~22.04.1_amd64.deb ...\n",
            "Unpacking aspnetcore-targeting-pack-7.0 (7.0.110-0ubuntu1~22.04.1) ...\n",
            "Selecting previously unselected package dotnet-apphost-pack-7.0.\n",
            "Preparing to unpack .../08-dotnet-apphost-pack-7.0_7.0.110-0ubuntu1~22.04.1_amd64.deb ...\n",
            "Unpacking dotnet-apphost-pack-7.0 (7.0.110-0ubuntu1~22.04.1) ...\n",
            "Selecting previously unselected package dotnet-targeting-pack-7.0.\n",
            "Preparing to unpack .../09-dotnet-targeting-pack-7.0_7.0.110-0ubuntu1~22.04.1_amd64.deb ...\n",
            "Unpacking dotnet-targeting-pack-7.0 (7.0.110-0ubuntu1~22.04.1) ...\n",
            "Selecting previously unselected package dotnet-templates-7.0.\n",
            "Preparing to unpack .../10-dotnet-templates-7.0_7.0.110-0ubuntu1~22.04.1_amd64.deb ...\n",
            "Unpacking dotnet-templates-7.0 (7.0.110-0ubuntu1~22.04.1) ...\n",
            "Selecting previously unselected package netstandard-targeting-pack-2.1-7.0.\n",
            "Preparing to unpack .../11-netstandard-targeting-pack-2.1-7.0_7.0.110-0ubuntu1~22.04.1_amd64.deb ...\n",
            "Unpacking netstandard-targeting-pack-2.1-7.0 (7.0.110-0ubuntu1~22.04.1) ...\n",
            "Selecting previously unselected package dotnet-sdk-7.0.\n",
            "Preparing to unpack .../12-dotnet-sdk-7.0_7.0.110-0ubuntu1~22.04.1_amd64.deb ...\n",
            "Unpacking dotnet-sdk-7.0 (7.0.110-0ubuntu1~22.04.1) ...\n",
            "Setting up aspnetcore-targeting-pack-7.0 (7.0.110-0ubuntu1~22.04.1) ...\n",
            "Setting up liblttng-ust-common1:amd64 (2.13.1-1ubuntu1) ...\n",
            "Setting up dotnet-host-7.0 (7.0.110-0ubuntu1~22.04.1) ...\n",
            "Setting up dotnet-templates-7.0 (7.0.110-0ubuntu1~22.04.1) ...\n",
            "Setting up dotnet-targeting-pack-7.0 (7.0.110-0ubuntu1~22.04.1) ...\n",
            "Setting up dotnet-apphost-pack-7.0 (7.0.110-0ubuntu1~22.04.1) ...\n",
            "Setting up liblttng-ust-ctl5:amd64 (2.13.1-1ubuntu1) ...\n",
            "Setting up netstandard-targeting-pack-2.1-7.0 (7.0.110-0ubuntu1~22.04.1) ...\n",
            "Setting up dotnet-hostfxr-7.0 (7.0.110-0ubuntu1~22.04.1) ...\n",
            "Setting up liblttng-ust1:amd64 (2.13.1-1ubuntu1) ...\n",
            "Setting up dotnet-runtime-7.0 (7.0.110-0ubuntu1~22.04.1) ...\n",
            "Setting up aspnetcore-runtime-7.0 (7.0.110-0ubuntu1~22.04.1) ...\n",
            "Setting up dotnet-sdk-7.0 (7.0.110-0ubuntu1~22.04.1) ...\n",
            "Processing triggers for man-db (2.10.2-1) ...\n",
            "Processing triggers for libc-bin (2.35-0ubuntu3.1) ...\n",
            "/sbin/ldconfig.real: /usr/local/lib/libtbbbind.so.3 is not a symbolic link\n",
            "\n",
            "/sbin/ldconfig.real: /usr/local/lib/libtbbmalloc.so.2 is not a symbolic link\n",
            "\n",
            "/sbin/ldconfig.real: /usr/local/lib/libtbb.so.12 is not a symbolic link\n",
            "\n",
            "/sbin/ldconfig.real: /usr/local/lib/libtbbbind_2_0.so.3 is not a symbolic link\n",
            "\n",
            "/sbin/ldconfig.real: /usr/local/lib/libtbbbind_2_5.so.3 is not a symbolic link\n",
            "\n",
            "/sbin/ldconfig.real: /usr/local/lib/libtbbmalloc_proxy.so.2 is not a symbolic link\n",
            "\n",
            "Hit:1 https://cloud.r-project.org/bin/linux/ubuntu jammy-cran40/ InRelease\n",
            "Hit:2 http://archive.ubuntu.com/ubuntu jammy InRelease\n",
            "Hit:3 https://developer.download.nvidia.com/compute/cuda/repos/ubuntu2204/x86_64  InRelease\n",
            "Hit:4 http://archive.ubuntu.com/ubuntu jammy-updates InRelease\n",
            "Hit:5 http://archive.ubuntu.com/ubuntu jammy-backports InRelease\n",
            "Hit:6 http://security.ubuntu.com/ubuntu jammy-security InRelease\n",
            "Hit:7 https://ppa.launchpadcontent.net/c2d4u.team/c2d4u4.0+/ubuntu jammy InRelease\n",
            "Hit:8 https://ppa.launchpadcontent.net/deadsnakes/ppa/ubuntu jammy InRelease\n",
            "Hit:9 https://ppa.launchpadcontent.net/graphics-drivers/ppa/ubuntu jammy InRelease\n",
            "Hit:10 https://ppa.launchpadcontent.net/ubuntugis/ppa/ubuntu jammy InRelease\n",
            "Reading package lists... Done\n",
            "Reading package lists... Done\n",
            "Building dependency tree... Done\n",
            "Reading state information... Done\n",
            "aspnetcore-runtime-7.0 is already the newest version (7.0.110-0ubuntu1~22.04.1).\n",
            "aspnetcore-runtime-7.0 set to manually installed.\n",
            "0 upgraded, 0 newly installed, 0 to remove and 16 not upgraded.\n",
            "Reading package lists... Done\n",
            "Building dependency tree... Done\n",
            "Reading state information... Done\n",
            "zlib1g is already the newest version (1:1.2.11.dfsg-2ubuntu9.2).\n",
            "0 upgraded, 0 newly installed, 0 to remove and 16 not upgraded.\n"
          ]
        }
      ]
    },
    {
      "cell_type": "code",
      "metadata": {
        "id": "A4SpMCbaJOls",
        "colab": {
          "base_uri": "https://localhost:8080/"
        },
        "outputId": "0ccde885-cd1d-4d41-a068-a1ef40496337"
      },
      "source": [
        "! wget -q https://packages.microsoft.com/config/ubuntu/23.04/packages-microsoft-prod.deb -O packages-microsoft-prod.deb \\\n",
        "&& dpkg -i packages-microsoft-prod.deb \\\n",
        "&& add-apt-repository universe \\\n",
        "&& apt-get update \\\n",
        "&& apt-get install apt-transport-https \\\n",
        "&& apt-get update \\\n",
        "&& apt-get install dotnet-sdk-7.0 \\\n",
        "&& dotnet tool install -g mlnet"
      ],
      "execution_count": null,
      "outputs": [
        {
          "output_type": "stream",
          "name": "stdout",
          "text": [
            "Selecting previously unselected package packages-microsoft-prod.\n",
            "(Reading database ... \r(Reading database ... 5%\r(Reading database ... 10%\r(Reading database ... 15%\r(Reading database ... 20%\r(Reading database ... 25%\r(Reading database ... 30%\r(Reading database ... 35%\r(Reading database ... 40%\r(Reading database ... 45%\r(Reading database ... 50%\r(Reading database ... 55%\r(Reading database ... 60%\r(Reading database ... 65%\r(Reading database ... 70%\r(Reading database ... 75%\r(Reading database ... 80%\r(Reading database ... 85%\r(Reading database ... 90%\r(Reading database ... 95%\r(Reading database ... 100%\r(Reading database ... 124389 files and directories currently installed.)\n",
            "Preparing to unpack packages-microsoft-prod.deb ...\n",
            "Unpacking packages-microsoft-prod (1.0-ubuntu23.04.1) ...\n",
            "Setting up packages-microsoft-prod (1.0-ubuntu23.04.1) ...\n",
            "Adding component(s) 'universe' to all repositories.\n",
            "Press [ENTER] to continue or Ctrl-c to cancel.\n",
            "Hit:1 http://security.ubuntu.com/ubuntu jammy-security InRelease\n",
            "Hit:2 https://cloud.r-project.org/bin/linux/ubuntu jammy-cran40/ InRelease\n",
            "Get:3 https://packages.microsoft.com/ubuntu/23.04/prod lunar InRelease [3,611 B]\n",
            "Hit:4 http://archive.ubuntu.com/ubuntu jammy InRelease\n",
            "Hit:5 http://archive.ubuntu.com/ubuntu jammy-updates InRelease\n",
            "Hit:6 https://developer.download.nvidia.com/compute/cuda/repos/ubuntu2204/x86_64  InRelease\n",
            "Hit:7 http://archive.ubuntu.com/ubuntu jammy-backports InRelease\n",
            "Hit:8 https://ppa.launchpadcontent.net/c2d4u.team/c2d4u4.0+/ubuntu jammy InRelease\n",
            "Get:9 https://packages.microsoft.com/ubuntu/23.04/prod lunar/main all Packages [371 B]\n",
            "Get:10 https://packages.microsoft.com/ubuntu/23.04/prod lunar/main armhf Packages [455 B]\n",
            "Get:11 https://packages.microsoft.com/ubuntu/23.04/prod lunar/main arm64 Packages [1,442 B]\n",
            "Get:12 https://packages.microsoft.com/ubuntu/23.04/prod lunar/main amd64 Packages [14.1 kB]\n",
            "Hit:13 https://ppa.launchpadcontent.net/deadsnakes/ppa/ubuntu jammy InRelease\n",
            "Hit:14 https://ppa.launchpadcontent.net/graphics-drivers/ppa/ubuntu jammy InRelease\n",
            "Hit:15 https://ppa.launchpadcontent.net/ubuntugis/ppa/ubuntu jammy InRelease\n",
            "Fetched 20.0 kB in 2s (13.2 kB/s)\n",
            "Reading package lists... Done\n",
            "Hit:1 http://archive.ubuntu.com/ubuntu jammy InRelease\n",
            "Hit:2 http://archive.ubuntu.com/ubuntu jammy-updates InRelease\n",
            "Hit:3 http://archive.ubuntu.com/ubuntu jammy-backports InRelease\n",
            "Hit:4 http://security.ubuntu.com/ubuntu jammy-security InRelease\n",
            "Hit:5 https://cloud.r-project.org/bin/linux/ubuntu jammy-cran40/ InRelease\n",
            "Hit:6 https://packages.microsoft.com/ubuntu/23.04/prod lunar InRelease\n",
            "Hit:7 https://developer.download.nvidia.com/compute/cuda/repos/ubuntu2204/x86_64  InRelease\n",
            "Hit:8 https://ppa.launchpadcontent.net/c2d4u.team/c2d4u4.0+/ubuntu jammy InRelease\n",
            "Hit:9 https://ppa.launchpadcontent.net/deadsnakes/ppa/ubuntu jammy InRelease\n",
            "Hit:10 https://ppa.launchpadcontent.net/graphics-drivers/ppa/ubuntu jammy InRelease\n",
            "Hit:11 https://ppa.launchpadcontent.net/ubuntugis/ppa/ubuntu jammy InRelease\n",
            "Reading package lists... Done\n",
            "Reading package lists... Done\n",
            "Building dependency tree... Done\n",
            "Reading state information... Done\n",
            "The following NEW packages will be installed:\n",
            "  apt-transport-https\n",
            "0 upgraded, 1 newly installed, 0 to remove and 17 not upgraded.\n",
            "Need to get 1,510 B of archives.\n",
            "After this operation, 169 kB of additional disk space will be used.\n",
            "Get:1 http://archive.ubuntu.com/ubuntu jammy-updates/universe amd64 apt-transport-https all 2.4.10 [1,510 B]\n",
            "Fetched 1,510 B in 0s (42.1 kB/s)\n",
            "Selecting previously unselected package apt-transport-https.\n",
            "(Reading database ... 124397 files and directories currently installed.)\n",
            "Preparing to unpack .../apt-transport-https_2.4.10_all.deb ...\n",
            "Unpacking apt-transport-https (2.4.10) ...\n",
            "Setting up apt-transport-https (2.4.10) ...\n",
            "Hit:1 http://security.ubuntu.com/ubuntu jammy-security InRelease\n",
            "Hit:2 http://archive.ubuntu.com/ubuntu jammy InRelease\n",
            "Hit:3 http://archive.ubuntu.com/ubuntu jammy-updates InRelease\n",
            "Hit:4 https://cloud.r-project.org/bin/linux/ubuntu jammy-cran40/ InRelease\n",
            "Hit:5 http://archive.ubuntu.com/ubuntu jammy-backports InRelease\n",
            "Hit:6 https://packages.microsoft.com/ubuntu/23.04/prod lunar InRelease\n",
            "Hit:7 https://developer.download.nvidia.com/compute/cuda/repos/ubuntu2204/x86_64  InRelease\n",
            "Hit:8 https://ppa.launchpadcontent.net/c2d4u.team/c2d4u4.0+/ubuntu jammy InRelease\n",
            "Hit:9 https://ppa.launchpadcontent.net/deadsnakes/ppa/ubuntu jammy InRelease\n",
            "Hit:10 https://ppa.launchpadcontent.net/graphics-drivers/ppa/ubuntu jammy InRelease\n",
            "Hit:11 https://ppa.launchpadcontent.net/ubuntugis/ppa/ubuntu jammy InRelease\n",
            "Reading package lists... Done\n",
            "Reading package lists... Done\n",
            "Building dependency tree... Done\n",
            "Reading state information... Done\n",
            "Some packages could not be installed. This may mean that you have\n",
            "requested an impossible situation or if you are using the unstable\n",
            "distribution that some required packages have not yet been created\n",
            "or been moved out of Incoming.\n",
            "The following information may help to resolve the situation:\n",
            "\n",
            "The following packages have unmet dependencies:\n",
            " netstandard-targeting-pack-2.1-7.0 : Conflicts: netstandard-targeting-pack-2.1\n",
            "E: Error, pkgProblemResolver::Resolve generated breaks, this may be caused by held packages.\n"
          ]
        }
      ]
    },
    {
      "cell_type": "code",
      "source": [
        "!dotnet --info\n"
      ],
      "metadata": {
        "id": "R0RJHh7QMk_M",
        "colab": {
          "base_uri": "https://localhost:8080/"
        },
        "outputId": "993de582-3f79-4fd6-88c2-7dda51bb64dc"
      },
      "execution_count": null,
      "outputs": [
        {
          "output_type": "stream",
          "name": "stdout",
          "text": [
            "\u001b[?1h\u001b=.NET SDK:\n",
            " Version:   7.0.110\n",
            " Commit:    ba920f88ac\n",
            "\n",
            "Runtime Environment:\n",
            " OS Name:     ubuntu\n",
            " OS Version:  22.04\n",
            " OS Platform: Linux\n",
            " RID:         ubuntu.22.04-x64\n",
            " Base Path:   /usr/lib/dotnet/sdk/7.0.110/\n",
            "\n",
            "Host:\n",
            "  Version:      7.0.10\n",
            "  Architecture: x64\n",
            "  Commit:       a6dbb800a4\n",
            "\n",
            ".NET SDKs installed:\n",
            "  7.0.110 [/usr/lib/dotnet/sdk]\n",
            "\n",
            ".NET runtimes installed:\n",
            "  Microsoft.AspNetCore.App 7.0.10 [/usr/lib/dotnet/shared/Microsoft.AspNetCore.App]\n",
            "  Microsoft.NETCore.App 7.0.10 [/usr/lib/dotnet/shared/Microsoft.NETCore.App]\n",
            "\n",
            "Other architectures found:\n",
            "  None\n",
            "\n",
            "Environment variables:\n",
            "  Not set\n",
            "\n",
            "global.json file:\n",
            "  Not found\n",
            "\n",
            "Learn more:\n",
            "  https://aka.ms/dotnet/info\n",
            "\n",
            "Download .NET:\n",
            "  https://aka.ms/dotnet/download\n"
          ]
        }
      ]
    },
    {
      "cell_type": "code",
      "source": [],
      "metadata": {
        "id": "uUvHFBHpKtVm"
      },
      "execution_count": null,
      "outputs": []
    },
    {
      "cell_type": "code",
      "source": [],
      "metadata": {
        "id": "KZUO5EkF1gCx"
      },
      "execution_count": null,
      "outputs": []
    },
    {
      "cell_type": "code",
      "source": [],
      "metadata": {
        "id": "ZNVqw63Mz60p"
      },
      "execution_count": null,
      "outputs": []
    },
    {
      "cell_type": "code",
      "source": [
        "\n"
      ],
      "metadata": {
        "id": "liA4q7XJ0ya1"
      },
      "execution_count": null,
      "outputs": []
    },
    {
      "cell_type": "code",
      "source": [
        "!dotnet new webapi -o TodoApi\n",
        "!cd TodoApi\n",
        "!dotnet restore\n",
        "!dotnet build\n"
      ],
      "metadata": {
        "id": "mIukKNZRTc9E",
        "colab": {
          "base_uri": "https://localhost:8080/"
        },
        "outputId": "40546b18-314c-4bfa-f98d-6316a679bbac"
      },
      "execution_count": null,
      "outputs": [
        {
          "output_type": "stream",
          "name": "stdout",
          "text": [
            "\u001b[?1h\u001b=\n",
            "Welcome to .NET 7.0!\n",
            "---------------------\n",
            "SDK Version: 7.0.110\n",
            "\n",
            "----------------\n",
            "Installed an ASP.NET Core HTTPS development certificate.\n",
            "To trust the certificate run 'dotnet dev-certs https --trust' (Windows and macOS only).\n",
            "Learn about HTTPS: https://aka.ms/dotnet-https\n",
            "----------------\n",
            "Write your first app: https://aka.ms/dotnet-hello-world\n",
            "Find out what's new: https://aka.ms/dotnet-whats-new\n",
            "Explore documentation: https://aka.ms/dotnet-docs\n",
            "Report issues and find source on GitHub: https://github.com/dotnet/core\n",
            "Use 'dotnet --help' to see available commands or visit: https://aka.ms/dotnet-cli\n",
            "--------------------------------------------------------------------------------------\n",
            "The template \"ASP.NET Core Web API\" was created successfully.\n",
            "\n",
            "Processing post-creation actions...\n",
            "Restoring /content/TodoApi/TodoApi.csproj:\n",
            "  Determining projects to restore...\n",
            "  Restored /content/TodoApi/TodoApi.csproj (in 1.74 sec).\n",
            "Restore succeeded.\n",
            "\n",
            "\n",
            "\u001b[?1h\u001b=MSBUILD : error MSB1003: Specify a project or solution file. The current working directory does not contain a project or solution file.\n",
            "\u001b[?1h\u001b=MSBuild version 17.4.8+6918b863a for .NET\n",
            "MSBUILD : error MSB1003: Specify a project or solution file. The current working directory does not contain a project or solution file.\n"
          ]
        }
      ]
    },
    {
      "cell_type": "code",
      "source": [
        "!dotnet build TodoApi/"
      ],
      "metadata": {
        "id": "Jc4j3jXkTc5h",
        "colab": {
          "base_uri": "https://localhost:8080/"
        },
        "outputId": "9c5b417f-ba35-498d-ce61-fcdeb8ac130f"
      },
      "execution_count": null,
      "outputs": [
        {
          "output_type": "stream",
          "name": "stdout",
          "text": [
            "\u001b[?1h\u001b=MSBuild version 17.4.8+6918b863a for .NET\n",
            "  Determining projects to restore...\n",
            "  All projects are up-to-date for restore.\n",
            "  TodoApi -> /content/TodoApi/bin/Debug/net7.0/TodoApi.dll\n",
            "\u001b[m\u001b[32m\n",
            "Build succeeded.\n",
            "\u001b[m    0 Warning(s)\n",
            "\u001b[m    0 Error(s)\n",
            "\u001b[m\n",
            "Time Elapsed 00:00:02.33\n"
          ]
        }
      ]
    },
    {
      "cell_type": "code",
      "source": [
        "# we can use %%magic  command  inststead of ! to run the shell in separate process   with --bg --proc=dotnet_webapi parameters\n",
        "#so we can execute next cells (nohup)\n",
        "#!dotnet TodoApi/bin/Debug/net7.0/TodoApi.dll\n",
        "%%script dotnet TodoApi/bin/Debug/net7.0/TodoApi.dll --bg --proc=dotnet_webapi\n",
        "# output\n",
        "# info: Microsoft.AspNetCore.Server.Kestrel[0]\n",
        "#       Unable to bind to http://localhost:5000 on the IPv6 loopback interface: 'Cannot assign requested address'.\n",
        "# info: Microsoft.Hosting.Lifetime[14]\n",
        "#       Now listening on: http://localhost:5000\n",
        "# info: Microsoft.Hosting.Lifetime[0]\n",
        "#       Application started. Press Ctrl+C to shut down.\n",
        "# info: Microsoft.Hosting.Lifetime[0]\n",
        "#       Hosting environment: Production\n",
        "# info: Microsoft.Hosting.Lifetime[0]\n",
        "#       Content root path: /content\n"
      ],
      "metadata": {
        "id": "7h-P1_HoCnsN"
      },
      "execution_count": null,
      "outputs": []
    },
    {
      "cell_type": "code",
      "source": [
        "import requests\n",
        "\n",
        "requests.packages.urllib3.disable_warnings() # ignore ssl warnings\n",
        "\n",
        "def get_values():\n",
        "  try:\n",
        "    response = requests.get('http://localhost:5000/api/values', verify=False)\n",
        "\n",
        "    print('{} response'.format(response.status_code))\n",
        "    return response.content\n",
        "  except requests.exceptions.ConnectionError:\n",
        "    print('Connection refused')\n",
        "    return {}"
      ],
      "metadata": {
        "id": "N924u8TGESx4"
      },
      "execution_count": null,
      "outputs": []
    },
    {
      "cell_type": "code",
      "source": [
        "!pip install IPython\n",
        "import requests\n",
        "content = requests.get('http://localhost:5000/').text\n",
        "from IPython.display import HTML, display\n",
        "display(HTML(content))"
      ],
      "metadata": {
        "colab": {
          "base_uri": "https://localhost:8080/",
          "height": 260
        },
        "id": "tp_hrbqIjCen",
        "outputId": "a7ba76db-9351-41cb-afc5-ac0307fc87db"
      },
      "execution_count": null,
      "outputs": [
        {
          "output_type": "stream",
          "name": "stdout",
          "text": [
            "Requirement already satisfied: IPython in /usr/local/lib/python3.10/dist-packages (7.34.0)\n",
            "Requirement already satisfied: setuptools>=18.5 in /usr/local/lib/python3.10/dist-packages (from IPython) (67.7.2)\n",
            "Requirement already satisfied: jedi>=0.16 in /usr/local/lib/python3.10/dist-packages (from IPython) (0.19.0)\n",
            "Requirement already satisfied: decorator in /usr/local/lib/python3.10/dist-packages (from IPython) (4.4.2)\n",
            "Requirement already satisfied: pickleshare in /usr/local/lib/python3.10/dist-packages (from IPython) (0.7.5)\n",
            "Requirement already satisfied: traitlets>=4.2 in /usr/local/lib/python3.10/dist-packages (from IPython) (5.7.1)\n",
            "Requirement already satisfied: prompt-toolkit!=3.0.0,!=3.0.1,<3.1.0,>=2.0.0 in /usr/local/lib/python3.10/dist-packages (from IPython) (3.0.39)\n",
            "Requirement already satisfied: pygments in /usr/local/lib/python3.10/dist-packages (from IPython) (2.16.1)\n",
            "Requirement already satisfied: backcall in /usr/local/lib/python3.10/dist-packages (from IPython) (0.2.0)\n",
            "Requirement already satisfied: matplotlib-inline in /usr/local/lib/python3.10/dist-packages (from IPython) (0.1.6)\n",
            "Requirement already satisfied: pexpect>4.3 in /usr/local/lib/python3.10/dist-packages (from IPython) (4.8.0)\n",
            "Requirement already satisfied: parso<0.9.0,>=0.8.3 in /usr/local/lib/python3.10/dist-packages (from jedi>=0.16->IPython) (0.8.3)\n",
            "Requirement already satisfied: ptyprocess>=0.5 in /usr/local/lib/python3.10/dist-packages (from pexpect>4.3->IPython) (0.7.0)\n",
            "Requirement already satisfied: wcwidth in /usr/local/lib/python3.10/dist-packages (from prompt-toolkit!=3.0.0,!=3.0.1,<3.1.0,>=2.0.0->IPython) (0.2.6)\n"
          ]
        },
        {
          "output_type": "display_data",
          "data": {
            "text/plain": [
              "<IPython.core.display.HTML object>"
            ],
            "text/html": []
          },
          "metadata": {}
        }
      ]
    },
    {
      "cell_type": "code",
      "source": [
        "#@title hello world\n",
        "\n",
        "content = requests.get('http://localhost:5000/').text\n",
        "from IPython.display import HTML, display\n",
        "display(content)\n",
        "print(content)"
      ],
      "metadata": {
        "id": "2KaeKUn1jEAx",
        "colab": {
          "base_uri": "https://localhost:8080/",
          "height": 52
        },
        "cellView": "form",
        "outputId": "a613e03b-71cc-4899-ff8f-1db268ec9c92"
      },
      "execution_count": null,
      "outputs": [
        {
          "output_type": "display_data",
          "data": {
            "text/plain": [
              "''"
            ],
            "application/vnd.google.colaboratory.intrinsic+json": {
              "type": "string"
            }
          },
          "metadata": {}
        },
        {
          "output_type": "stream",
          "name": "stdout",
          "text": [
            "\n"
          ]
        }
      ]
    },
    {
      "cell_type": "code",
      "source": [
        "from google.colab import output\n",
        "\n",
        "port = 5000\n",
        "output.serve_kernel_port_as_window(port)\n"
      ],
      "metadata": {
        "id": "u6-QUMFOjEDL",
        "colab": {
          "base_uri": "https://localhost:8080/",
          "height": 34
        },
        "outputId": "3f6c272d-43de-461b-e22d-961bfcc65386"
      },
      "execution_count": null,
      "outputs": [
        {
          "output_type": "display_data",
          "data": {
            "text/plain": [
              "<IPython.core.display.Javascript object>"
            ],
            "application/javascript": [
              "(async (port, path, text, element) => {\n",
              "    if (!google.colab.kernel.accessAllowed) {\n",
              "      return;\n",
              "    }\n",
              "    element.appendChild(document.createTextNode(''));\n",
              "    const url = await google.colab.kernel.proxyPort(port);\n",
              "    const anchor = document.createElement('a');\n",
              "    anchor.href = new URL(path, url).toString();\n",
              "    anchor.target = '_blank';\n",
              "    anchor.setAttribute('data-href', url + path);\n",
              "    anchor.textContent = text;\n",
              "    element.appendChild(anchor);\n",
              "  })(5000, \"/\", \"https://localhost:5000/\", window.element)"
            ]
          },
          "metadata": {}
        }
      ]
    },
    {
      "cell_type": "code",
      "source": [
        "import portpicker\n",
        "import threading\n",
        "import socket\n",
        "import IPython\n",
        "from google.colab import output\n",
        "output.serve_kernel_port_as_window(content)"
      ],
      "metadata": {
        "id": "7Nzt_FO7jEFS",
        "colab": {
          "base_uri": "https://localhost:8080/",
          "height": 17
        },
        "outputId": "2b371e96-f2a1-437e-a347-042c3436ac4a"
      },
      "execution_count": null,
      "outputs": [
        {
          "output_type": "display_data",
          "data": {
            "text/plain": [
              "<IPython.core.display.Javascript object>"
            ],
            "application/javascript": [
              "(async (port, path, text, element) => {\n",
              "    if (!google.colab.kernel.accessAllowed) {\n",
              "      return;\n",
              "    }\n",
              "    element.appendChild(document.createTextNode(''));\n",
              "    const url = await google.colab.kernel.proxyPort(port);\n",
              "    const anchor = document.createElement('a');\n",
              "    anchor.href = new URL(path, url).toString();\n",
              "    anchor.target = '_blank';\n",
              "    anchor.setAttribute('data-href', url + path);\n",
              "    anchor.textContent = text;\n",
              "    element.appendChild(anchor);\n",
              "  })(, \"/\", \"https://localhost:/\", window.element)"
            ]
          },
          "metadata": {}
        }
      ]
    },
    {
      "cell_type": "code",
      "source": [
        "%%javascript\n",
        "// Fetches from the backend VM on port 1234.\n",
        "fetch('http://localhost:5000/')"
      ],
      "metadata": {
        "id": "-PHs6xbrjEHW",
        "colab": {
          "resources": {
            "http://localhost:5000/": {
              "data": "CjwhRE9DVFlQRSBodG1sPgo8aHRtbCBsYW5nPWVuPgogIDxtZXRhIGNoYXJzZXQ9dXRmLTg+CiAgPG1ldGEgbmFtZT12aWV3cG9ydCBjb250ZW50PSJpbml0aWFsLXNjYWxlPTEsIG1pbmltdW0tc2NhbGU9MSwgd2lkdGg9ZGV2aWNlLXdpZHRoIj4KICA8dGl0bGU+RXJyb3IgNDA0IChOb3QgRm91bmQpISExPC90aXRsZT4KICA8c3R5bGU+CiAgICAqe21hcmdpbjowO3BhZGRpbmc6MH1odG1sLGNvZGV7Zm9udDoxNXB4LzIycHggYXJpYWwsc2Fucy1zZXJpZn1odG1se2JhY2tncm91bmQ6I2ZmZjtjb2xvcjojMjIyO3BhZGRpbmc6MTVweH1ib2R5e21hcmdpbjo3JSBhdXRvIDA7bWF4LXdpZHRoOjM5MHB4O21pbi1oZWlnaHQ6MTgwcHg7cGFkZGluZzozMHB4IDAgMTVweH0qID4gYm9keXtiYWNrZ3JvdW5kOnVybCgvL3d3dy5nb29nbGUuY29tL2ltYWdlcy9lcnJvcnMvcm9ib3QucG5nKSAxMDAlIDVweCBuby1yZXBlYXQ7cGFkZGluZy1yaWdodDoyMDVweH1we21hcmdpbjoxMXB4IDAgMjJweDtvdmVyZmxvdzpoaWRkZW59aW5ze2NvbG9yOiM3Nzc7dGV4dC1kZWNvcmF0aW9uOm5vbmV9YSBpbWd7Ym9yZGVyOjB9QG1lZGlhIHNjcmVlbiBhbmQgKG1heC13aWR0aDo3NzJweCl7Ym9keXtiYWNrZ3JvdW5kOm5vbmU7bWFyZ2luLXRvcDowO21heC13aWR0aDpub25lO3BhZGRpbmctcmlnaHQ6MH19I2xvZ297YmFja2dyb3VuZDp1cmwoLy93d3cuZ29vZ2xlLmNvbS9pbWFnZXMvbG9nb3MvZXJyb3JwYWdlL2Vycm9yX2xvZ28tMTUweDU0LnBuZykgbm8tcmVwZWF0O21hcmdpbi1sZWZ0Oi01cHh9QG1lZGlhIG9ubHkgc2NyZWVuIGFuZCAobWluLXJlc29sdXRpb246MTkyZHBpKXsjbG9nb3tiYWNrZ3JvdW5kOnVybCgvL3d3dy5nb29nbGUuY29tL2ltYWdlcy9sb2dvcy9lcnJvcnBhZ2UvZXJyb3JfbG9nby0xNTB4NTQtMngucG5nKSBuby1yZXBlYXQgMCUgMCUvMTAwJSAxMDAlOy1tb3otYm9yZGVyLWltYWdlOnVybCgvL3d3dy5nb29nbGUuY29tL2ltYWdlcy9sb2dvcy9lcnJvcnBhZ2UvZXJyb3JfbG9nby0xNTB4NTQtMngucG5nKSAwfX1AbWVkaWEgb25seSBzY3JlZW4gYW5kICgtd2Via2l0LW1pbi1kZXZpY2UtcGl4ZWwtcmF0aW86Mil7I2xvZ297YmFja2dyb3VuZDp1cmwoLy93d3cuZ29vZ2xlLmNvbS9pbWFnZXMvbG9nb3MvZXJyb3JwYWdlL2Vycm9yX2xvZ28tMTUweDU0LTJ4LnBuZykgbm8tcmVwZWF0Oy13ZWJraXQtYmFja2dyb3VuZC1zaXplOjEwMCUgMTAwJX19I2xvZ297ZGlzcGxheTppbmxpbmUtYmxvY2s7aGVpZ2h0OjU0cHg7d2lkdGg6MTUwcHh9CiAgPC9zdHlsZT4KICA8YSBocmVmPS8vd3d3Lmdvb2dsZS5jb20vPjxzcGFuIGlkPWxvZ28gYXJpYS1sYWJlbD1Hb29nbGU+PC9zcGFuPjwvYT4KICA8cD48Yj40MDQuPC9iPiA8aW5zPlRoYXTigJlzIGFuIGVycm9yLjwvaW5zPgogIDxwPiAgPGlucz5UaGF04oCZcyBhbGwgd2Uga25vdy48L2lucz4K",
              "ok": false,
              "headers": [
                [
                  "content-length",
                  "1449"
                ],
                [
                  "content-type",
                  "text/html; charset=utf-8"
                ]
              ],
              "status": 404,
              "status_text": "Not Found"
            }
          },
          "base_uri": "https://localhost:8080/",
          "height": 17
        },
        "outputId": "101e3f88-3847-4bb5-b6b4-f8729c1811a7"
      },
      "execution_count": null,
      "outputs": [
        {
          "output_type": "display_data",
          "data": {
            "text/plain": [
              "<IPython.core.display.Javascript object>"
            ],
            "application/javascript": [
              "// Fetches from the backend VM on port 1234.\n",
              "fetch('http://localhost:5000/')\n"
            ]
          },
          "metadata": {}
        }
      ]
    },
    {
      "cell_type": "code",
      "source": [],
      "metadata": {
        "id": "Znmu_Za7jEK9"
      },
      "execution_count": null,
      "outputs": []
    },
    {
      "cell_type": "code",
      "source": [],
      "metadata": {
        "id": "twNnqszvEpth"
      },
      "execution_count": null,
      "outputs": []
    },
    {
      "cell_type": "code",
      "source": [],
      "metadata": {
        "id": "R0IwYU2ZT_JD"
      },
      "execution_count": null,
      "outputs": []
    },
    {
      "cell_type": "code",
      "source": [],
      "metadata": {
        "id": "JJ7_6cAvcJc3"
      },
      "execution_count": null,
      "outputs": []
    }
  ]
}